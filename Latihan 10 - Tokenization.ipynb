{
 "cells": [
  {
   "cell_type": "code",
   "execution_count": 1,
   "id": "de9dc543",
   "metadata": {},
   "outputs": [],
   "source": [
    "from tensorflow.keras.preprocessing.text import Tokenizer"
   ]
  },
  {
   "cell_type": "code",
   "execution_count": 2,
   "id": "ece59619",
   "metadata": {},
   "outputs": [],
   "source": [
    "tokenizer = Tokenizer(num_words= 15, oov_token='-')"
   ]
  },
  {
   "cell_type": "code",
   "execution_count": 3,
   "id": "f2835b0a",
   "metadata": {},
   "outputs": [],
   "source": [
    "teks = ['Saya suka programming',\n",
    "        'Programming sangat menyenangkan!',\n",
    "        'Machine Learning berbeda dengan pemrograman konvensional']"
   ]
  },
  {
   "cell_type": "code",
   "execution_count": 4,
   "id": "6368983f",
   "metadata": {},
   "outputs": [],
   "source": [
    "tokenizer.fit_on_texts(teks)"
   ]
  },
  {
   "cell_type": "code",
   "execution_count": 5,
   "id": "6f9c37a7",
   "metadata": {},
   "outputs": [],
   "source": [
    "sequences = tokenizer.texts_to_sequences(teks)"
   ]
  },
  {
   "cell_type": "code",
   "execution_count": 6,
   "id": "273b44cc",
   "metadata": {},
   "outputs": [
    {
     "name": "stdout",
     "output_type": "stream",
     "text": [
      "{'-': 1, 'programming': 2, 'saya': 3, 'suka': 4, 'sangat': 5, 'menyenangkan': 6, 'machine': 7, 'learning': 8, 'berbeda': 9, 'dengan': 10, 'pemrograman': 11, 'konvensional': 12}\n"
     ]
    }
   ],
   "source": [
    "print(tokenizer.word_index)"
   ]
  },
  {
   "cell_type": "code",
   "execution_count": 7,
   "id": "9f175c45",
   "metadata": {},
   "outputs": [],
   "source": [
    "from tensorflow.keras.preprocessing.sequence import pad_sequences\n",
    "sequences_samapanjang = pad_sequences(sequences)"
   ]
  },
  {
   "cell_type": "code",
   "execution_count": 9,
   "id": "45c4a6a7",
   "metadata": {},
   "outputs": [
    {
     "name": "stdout",
     "output_type": "stream",
     "text": [
      "[[ 0  0  0  3  4  2]\n",
      " [ 0  0  0  2  5  6]\n",
      " [ 7  8  9 10 11 12]]\n"
     ]
    }
   ],
   "source": [
    "print(sequences_samapanjang)"
   ]
  },
  {
   "cell_type": "code",
   "execution_count": 10,
   "id": "2a1c3b40",
   "metadata": {},
   "outputs": [],
   "source": [
    "sequences_samapanjang = pad_sequences(sequences, \n",
    "                                      padding='post',\n",
    "                                      maxlen=5)"
   ]
  },
  {
   "cell_type": "code",
   "execution_count": 11,
   "id": "59c96a9d",
   "metadata": {},
   "outputs": [],
   "source": [
    "sequences_samapanjang = pad_sequences(sequences, \n",
    "                                      padding='post',\n",
    "                                      maxlen=5,\n",
    "                                      truncating='post')"
   ]
  },
  {
   "cell_type": "code",
   "execution_count": null,
   "id": "91d94e5f",
   "metadata": {},
   "outputs": [],
   "source": []
  }
 ],
 "metadata": {
  "kernelspec": {
   "display_name": "Python 3 (ipykernel)",
   "language": "python",
   "name": "python3"
  },
  "language_info": {
   "codemirror_mode": {
    "name": "ipython",
    "version": 3
   },
   "file_extension": ".py",
   "mimetype": "text/x-python",
   "name": "python",
   "nbconvert_exporter": "python",
   "pygments_lexer": "ipython3",
   "version": "3.9.7"
  }
 },
 "nbformat": 4,
 "nbformat_minor": 5
}
